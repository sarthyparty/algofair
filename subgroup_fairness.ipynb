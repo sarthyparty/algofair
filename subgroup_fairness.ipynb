{
 "cells": [
  {
   "cell_type": "code",
   "execution_count": 3,
   "metadata": {},
   "outputs": [
    {
     "ename": "ModuleNotFoundError",
     "evalue": "No module named 'numpy'",
     "output_type": "error",
     "traceback": [
      "\u001b[1;31m---------------------------------------------------------------------------\u001b[0m",
      "\u001b[1;31mModuleNotFoundError\u001b[0m                       Traceback (most recent call last)",
      "\u001b[1;32mc:\\Users\\a006x2\\Desktop\\gerryfair_2\\algofair\\subgroup_fairness.ipynb Cell 1\u001b[0m line \u001b[0;36m2\n\u001b[0;32m      <a href='vscode-notebook-cell:/c%3A/Users/a006x2/Desktop/gerryfair_2/algofair/subgroup_fairness.ipynb#W0sZmlsZQ%3D%3D?line=0'>1</a>\u001b[0m \u001b[39m# import pandas as pd\u001b[39;00m\n\u001b[1;32m----> <a href='vscode-notebook-cell:/c%3A/Users/a006x2/Desktop/gerryfair_2/algofair/subgroup_fairness.ipynb#W0sZmlsZQ%3D%3D?line=1'>2</a>\u001b[0m \u001b[39mimport\u001b[39;00m \u001b[39mnumpy\u001b[39;00m \u001b[39mas\u001b[39;00m \u001b[39mnp\u001b[39;00m\n\u001b[0;32m      <a href='vscode-notebook-cell:/c%3A/Users/a006x2/Desktop/gerryfair_2/algofair/subgroup_fairness.ipynb#W0sZmlsZQ%3D%3D?line=2'>3</a>\u001b[0m \u001b[39mfrom\u001b[39;00m \u001b[39msklearn\u001b[39;00m\u001b[39m.\u001b[39;00m\u001b[39mmodel_selection\u001b[39;00m \u001b[39mimport\u001b[39;00m cross_val_score, train_test_split\n\u001b[0;32m      <a href='vscode-notebook-cell:/c%3A/Users/a006x2/Desktop/gerryfair_2/algofair/subgroup_fairness.ipynb#W0sZmlsZQ%3D%3D?line=3'>4</a>\u001b[0m \u001b[39mfrom\u001b[39;00m \u001b[39msklearn\u001b[39;00m\u001b[39m.\u001b[39;00m\u001b[39mmetrics\u001b[39;00m \u001b[39mimport\u001b[39;00m roc_auc_score\n",
      "\u001b[1;31mModuleNotFoundError\u001b[0m: No module named 'numpy'"
     ]
    }
   ],
   "source": [
    "import pandas as pd\n",
    "import numpy as np\n",
    "from sklearn.model_selection import cross_val_score, train_test_split\n",
    "from sklearn.metrics import roc_auc_score\n",
    "from sklearn.linear_model import LogisticRegression\n",
    "from sklearn.metrics import confusion_matrix\n",
    "from sklearn.model_selection import KFold"
   ]
  },
  {
   "cell_type": "code",
   "execution_count": null,
   "metadata": {},
   "outputs": [],
   "source": [
    "df = pd.read_csv('test.csv')"
   ]
  },
  {
   "cell_type": "code",
   "execution_count": null,
   "metadata": {},
   "outputs": [],
   "source": [
    "X = df.drop('completed', axis=1)\n",
    "y = df['completed']"
   ]
  },
  {
   "cell_type": "code",
   "execution_count": null,
   "metadata": {},
   "outputs": [],
   "source": [
    "def calculate_fp_rates(X, y, col_ind, col_val):\n",
    "    model = LogisticRegression()\n",
    "\n",
    "    kfold = KFold(n_splits=10, shuffle=True, random_state=42)\n",
    "\n",
    "    aucs = []\n",
    "    fprs = []\n",
    "\n",
    "    y = np.array(y)\n",
    "    X = np.array(X)\n",
    "    for train_index, test_index in kfold.split(X):\n",
    "        X_train, X_test = X[train_index], X[test_index]\n",
    "        y_train, y_test = y[train_index], y[test_index]\n",
    "\n",
    "        model.fit(X_train, y_train)\n",
    "        y_pred = model.predict(X_test)\n",
    "        auc = roc_auc_score(y_test, y_pred)\n",
    "        aucs.append(auc)\n",
    "        \n",
    "        # Train and evaluate your model on the current fold\n",
    "        # You can replace this with your model training and evaluation code\n",
    "        conf_matrix = confusion_matrix(y_test, y_pred)\n",
    "\n",
    "        is_col_not_0 = X_test[:, col_ind] == col_val\n",
    "        TP = np.sum((y_test[is_col_not_0] == 1) & (y_pred[is_col_not_0] == 1))\n",
    "        FN = np.sum((y_test[is_col_not_0] == 1) & (y_pred[is_col_not_0] == 0))\n",
    "        TN = np.sum((y_test[is_col_not_0] == 0) & (y_pred[is_col_not_0] == 0))\n",
    "        FP = np.sum((y_test[is_col_not_0] == 0) & (y_pred[is_col_not_0] == 1))      \n",
    "\n",
    "        # Extract FP and TN from the confusion matrix\n",
    "        # FP = conf_matrix[0, 1]  # False Positives\n",
    "        # TN = conf_matrix[1, 1]  # True Negatives\n",
    "\n",
    "        # Calculate FPR\n",
    "        FPR = FP / (FP + TN)\n",
    "        fprs.append(FPR)\n",
    "        # print(\"False Positive Rate:\", FPR)\n",
    "\n",
    "    auc_avg = np.average(aucs)\n",
    "    auc_std = np.std(aucs)\n",
    "    fpr_avg = np.average(fprs)\n",
    "    fpr_std = np.std(fprs)\n",
    "    # print(\"AUC:\", auc_avg, auc_std)\n",
    "    print(\"FPR:\", fpr_avg, fpr_std)"
   ]
  },
  {
   "cell_type": "code",
   "execution_count": null,
   "metadata": {},
   "outputs": [],
   "source": [
    "calculate_fp_rates(X, y, 11, 1)"
   ]
  }
 ],
 "metadata": {
  "kernelspec": {
   "display_name": ".venv",
   "language": "python",
   "name": "python3"
  },
  "language_info": {
   "codemirror_mode": {
    "name": "ipython",
    "version": 3
   },
   "file_extension": ".py",
   "mimetype": "text/x-python",
   "name": "python",
   "nbconvert_exporter": "python",
   "pygments_lexer": "ipython3",
   "version": "3.9.12"
  }
 },
 "nbformat": 4,
 "nbformat_minor": 2
}
