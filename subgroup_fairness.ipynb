{
 "cells": [
  {
   "cell_type": "code",
   "execution_count": 70,
   "metadata": {},
   "outputs": [],
   "source": [
    "import pandas as pd\n",
    "import numpy as np\n",
    "import warnings\n",
    "import csv\n",
    "from sklearn.model_selection import cross_val_score, train_test_split\n",
    "from sklearn.metrics import roc_auc_score\n",
    "from sklearn.linear_model import LogisticRegression\n",
    "from sklearn.metrics import confusion_matrix\n",
    "from sklearn.model_selection import KFold\n",
    "from sklearn.exceptions import ConvergenceWarning\n",
    "\n",
    "warnings.filterwarnings(\"ignore\", category=ConvergenceWarning)"
   ]
  },
  {
   "cell_type": "code",
   "execution_count": 71,
   "metadata": {},
   "outputs": [],
   "source": [
    "df = pd.read_csv('./preprocessed.csv')\n",
    "df.drop(['umich_user_id', 'Unnamed: 0'], axis=1, inplace=True)"
   ]
  },
  {
   "cell_type": "code",
   "execution_count": 72,
   "metadata": {},
   "outputs": [],
   "source": [
    "X = df.drop('completed', axis=1)\n",
    "y = df['completed']"
   ]
  },
  {
   "cell_type": "markdown",
   "metadata": {},
   "source": [
    "#### Calculate false positive rates for the given subgroup\n",
    "\n",
    "This function takes in the subgroup to test for as a list of tuples. We use logistic regression and 10-fold cross validation to calculate the average FPR and AUC for the given subgroup. \n",
    "\n",
    "Returns a tuple containing FPR average, FPR standard deviation, AUC average, AUC standard deviation, and number of students in a given subgroup"
   ]
  },
  {
   "cell_type": "code",
   "execution_count": 73,
   "metadata": {},
   "outputs": [],
   "source": [
    "def calculate_fp_rates(X, y, subgroup):\n",
    "    col_subgroup = subgroup.copy()\n",
    "    model = LogisticRegression(verbose=0)\n",
    "\n",
    "    kfold = KFold(n_splits=10, shuffle=True, random_state=42)\n",
    "\n",
    "    # Gets index of given columns\n",
    "    for i,d in enumerate(col_subgroup):\n",
    "        col_subgroup[i] = (X.columns.get_loc(d[0]), d[1])\n",
    "\n",
    "    aucs = []\n",
    "    fprs = []\n",
    "\n",
    "    y = np.array(y)\n",
    "    X = np.array(X)\n",
    "\n",
    "    subgroup_size = 0\n",
    "    # Iterate through the each fold\n",
    "    for train_index, test_index in kfold.split(X):\n",
    "        X_train, X_test = X[train_index], X[test_index]\n",
    "        y_train, y_test = y[train_index], y[test_index]\n",
    "\n",
    "        model.fit(X_train, y_train)\n",
    "        y_pred = model.predict(X_test)\n",
    "\n",
    "        # Check if a subgroup is provided or not\n",
    "        if subgroup:\n",
    "            # Filter out the data\n",
    "            conditions = np.array([(X_test[:, name] == val) for name, val in col_subgroup]).all(axis=0)\n",
    "            X_test_filtered = X_test[conditions]\n",
    "            y_test_filtered = y_test[conditions]\n",
    "            y_pred_filtered = None\n",
    "            auc = None\n",
    "\n",
    "            # get total number of members in this subgroup\n",
    "            subgroup_size += X_test_filtered.shape[0]\n",
    "\n",
    "            # This exception is thrown when there is not enough data for the given subgroup\n",
    "            try:\n",
    "                y_pred_filtered = model.predict(X_test_filtered)\n",
    "                auc = roc_auc_score(y_test_filtered, y_pred_filtered)\n",
    "            except Exception:\n",
    "                continue\n",
    "\n",
    "            aucs.append(auc)\n",
    "\n",
    "            # TP = np.sum((y_test[conditions] == 1) & (y_pred[conditions] == 1))\n",
    "            # FN = np.sum((y_test[conditions] == 1) & (y_pred[conditions] == 0))\n",
    "            TN = np.sum((y_test[conditions] == 0) & (y_pred[conditions] == 0))\n",
    "            FP = np.sum((y_test[conditions] == 0) & (y_pred[conditions] == 1))      \n",
    "        else:\n",
    "            subgroup_size += X_test.shape[0]\n",
    "            auc = roc_auc_score(y_test, y_pred)\n",
    "            aucs.append(auc) \n",
    "\n",
    "            # TP = np.sum((y_test == 1) & (y_pred == 1))\n",
    "            # FN = np.sum((y_test == 1) & (y_pred == 0))\n",
    "            TN = np.sum((y_test == 0) & (y_pred == 0))\n",
    "            FP = np.sum((y_test == 0) & (y_pred == 1))\n",
    "\n",
    "        # Calculate FPR\n",
    "        FPR = FP / (FP + TN)\n",
    "        fprs.append(FPR)\n",
    "\n",
    "    auc_avg = np.average(aucs)\n",
    "    auc_std = np.std(aucs)\n",
    "    fpr_avg = np.average(fprs)\n",
    "    fpr_std = np.std(fprs)\n",
    "    # print(f\"AUC: {auc_avg} +/- {auc_std}\")\n",
    "    # print(f\"FPR: {fpr_avg} +/- {fpr_std}\")\n",
    "    return (auc_avg, auc_std, fpr_avg, fpr_std, subgroup_size)"
   ]
  },
  {
   "cell_type": "code",
   "execution_count": 74,
   "metadata": {},
   "outputs": [],
   "source": [
    "# calculate_fp_rates(X, y, [])"
   ]
  },
  {
   "cell_type": "markdown",
   "metadata": {},
   "source": [
    "#### Compute all subgroups\n",
    "\n",
    "This function generates all possible subgroups given the list of protected columns"
   ]
  },
  {
   "cell_type": "code",
   "execution_count": 75,
   "metadata": {},
   "outputs": [],
   "source": [
    "def compute_combo(cols):\n",
    "    retval = [[]]\n",
    "    def recurse(i, curr):\n",
    "        for j in range(i, len(cols)):\n",
    "            opt1 = curr.copy()\n",
    "            opt1.append((cols[j], 0))\n",
    "\n",
    "            opt2 = curr.copy()\n",
    "            opt2.append((cols[j], 1))\n",
    "            \n",
    "            retval.append(opt1)\n",
    "            retval.append(opt2)\n",
    "            if j < len(cols) - 1:\n",
    "                recurse(j+1, opt1.copy())\n",
    "            if j < len(cols) - 1:\n",
    "                recurse(j+1, opt2.copy())\n",
    "\n",
    "\n",
    "    recurse(0, [])\n",
    "\n",
    "    return retval"
   ]
  },
  {
   "cell_type": "code",
   "execution_count": 76,
   "metadata": {},
   "outputs": [],
   "source": [
    "combos = compute_combo(['country_cd_US', 'is_male', 'bachelor_obtained'])"
   ]
  },
  {
   "cell_type": "code",
   "execution_count": 77,
   "metadata": {},
   "outputs": [],
   "source": [
    "combos.sort(key=len)"
   ]
  },
  {
   "cell_type": "code",
   "execution_count": 78,
   "metadata": {},
   "outputs": [],
   "source": [
    "# for c in combos: \n",
    "#     subgroup = []\n",
    "#     for col, val in c:\n",
    "#         if col == 'country_cd_US':\n",
    "#             subgroup.append(\"US\" if val == 1 else \"International\")\n",
    "#         elif col == 'is_male':\n",
    "#             subgroup.append(\"Male\" if val == 1 else \"Female/Other\")\n",
    "#         elif col == 'bachelor_obtained':\n",
    "#             subgroup.append(\"Bachelor or higher\" if val == 1 else \"No Bachelor\")\n",
    "#     print(\", \".join(subgroup))\n",
    "#     fpr_avg, fpr_std, auc_avg, auc_std, n = calculate_fp_rates(X, y, c)\n",
    "#     print(f\"AUC: {auc_avg} +/- {auc_std}\")\n",
    "#     print(f\"FPR: {fpr_avg} +/- {fpr_std}\") \n",
    "#     print(f\"Members of subgroup: {n}\")\n",
    "#     print()\n",
    "    \n",
    "    "
   ]
  },
  {
   "cell_type": "markdown",
   "metadata": {},
   "source": [
    "Generate a list of all subgroup data and write it to a csv"
   ]
  },
  {
   "cell_type": "code",
   "execution_count": 79,
   "metadata": {},
   "outputs": [],
   "source": [
    "all_subgroup_data = []\n",
    "\n",
    "for c in combos:\n",
    "    subgroup = []\n",
    "    if c:\n",
    "        for col, val in c:\n",
    "            if col == 'country_cd_US':\n",
    "                subgroup.append(\"US\" if val == 1 else \"International\")\n",
    "            elif col == 'is_male':\n",
    "                subgroup.append(\"Male\" if val == 1 else \"Female/Other\")\n",
    "            elif col == 'bachelor_obtained':\n",
    "                subgroup.append(\"Bachelor or higher\" if val == 1 else \"No Bachelor\")\n",
    "    else:\n",
    "        subgroup.append(\"Overall\")\n",
    "\n",
    "    auc_avg, auc_std, fpr_avg, fpr_std, n = calculate_fp_rates(X, y, c)\n",
    "\n",
    "    subgroup_str = \", \".join(subgroup)\n",
    "    if n < 10:\n",
    "        subgroup_str += \"*\"\n",
    "    elif n >= 10 and n < 30:\n",
    "        subgroup_str += \"**\"\n",
    "    # Create a dictionary for each subgroup\n",
    "    subgroup_data = {\n",
    "        'subgroup': subgroup_str,\n",
    "        'auc_avg': f\"{auc_avg:.3f}\",\n",
    "        'auc_std': f\"{auc_std:.3f}\",\n",
    "        'fpr_avg': f\"{fpr_avg:.3f}\",\n",
    "        'fpr_std': f\"{fpr_std:.3f}\",\n",
    "        'number_of_members': f\"{n}\"\n",
    "    }\n",
    "\n",
    "    all_subgroup_data.append(subgroup_data)"
   ]
  },
  {
   "cell_type": "code",
   "execution_count": 80,
   "metadata": {},
   "outputs": [],
   "source": [
    "csv_file = 'subgroup_data_with_demographics.csv'\n",
    "\n",
    "# Write the data to a CSV file\n",
    "with open(csv_file, 'w', newline='') as csvfile:\n",
    "    fieldnames = ['subgroup', 'auc_avg', 'auc_std', 'fpr_avg', 'fpr_std', 'number_of_members']\n",
    "    writer = csv.DictWriter(csvfile, fieldnames=fieldnames)\n",
    "\n",
    "    writer.writeheader()  # Write the header row\n",
    "    for row in all_subgroup_data:\n",
    "        writer.writerow(row)"
   ]
  }
 ],
 "metadata": {
  "kernelspec": {
   "display_name": ".venv",
   "language": "python",
   "name": "python3"
  },
  "language_info": {
   "codemirror_mode": {
    "name": "ipython",
    "version": 3
   },
   "file_extension": ".py",
   "mimetype": "text/x-python",
   "name": "python",
   "nbconvert_exporter": "python",
   "pygments_lexer": "ipython3",
   "version": "3.9.12"
  }
 },
 "nbformat": 4,
 "nbformat_minor": 2
}
