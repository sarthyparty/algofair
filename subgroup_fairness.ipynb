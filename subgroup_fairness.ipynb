{
 "cells": [
  {
   "cell_type": "code",
   "execution_count": 98,
   "metadata": {},
   "outputs": [],
   "source": [
    "import pandas as pd\n",
    "import numpy as np\n",
    "import warnings\n",
    "import csv\n",
    "from sklearn.model_selection import cross_val_score, train_test_split\n",
    "from sklearn.metrics import roc_auc_score\n",
    "from sklearn.linear_model import LogisticRegression\n",
    "from sklearn.metrics import confusion_matrix\n",
    "from sklearn.model_selection import KFold\n",
    "from sklearn.exceptions import ConvergenceWarning\n",
    "from sklearn.metrics import mean_squared_error\n",
    "\n",
    "warnings.filterwarnings(\"ignore\", category=ConvergenceWarning)"
   ]
  },
  {
   "cell_type": "code",
   "execution_count": 99,
   "metadata": {},
   "outputs": [],
   "source": [
    "include_demographics = True "
   ]
  },
  {
   "cell_type": "code",
   "execution_count": 100,
   "metadata": {},
   "outputs": [],
   "source": [
    "df = pd.read_csv('./preprocessed.csv')\n",
    "df.drop(['umich_user_id', 'Unnamed: 0'], axis=1, inplace=True)"
   ]
  },
  {
   "cell_type": "code",
   "execution_count": 101,
   "metadata": {},
   "outputs": [],
   "source": [
    "X = df.drop('completed', axis=1)\n",
    "y = df['completed']"
   ]
  },
  {
   "cell_type": "markdown",
   "metadata": {},
   "source": [
    "#### Calculate false positive rates for the given subgroup\n",
    "\n",
    "This function takes in the subgroup to test for as a list of tuples. We use logistic regression and 10-fold cross validation to calculate the average FPR and AUC for the given subgroup. \n",
    "\n",
    "Returns a tuple containing FPR average, FPR standard deviation, AUC average, AUC standard deviation, and number of students in a given subgroup"
   ]
  },
  {
   "cell_type": "code",
   "execution_count": 102,
   "metadata": {},
   "outputs": [],
   "source": [
    "def calculate_fp_rates(X, y, subgroup, omit_demographics=False):\n",
    "    col_subgroup = subgroup.copy()\n",
    "    model = LogisticRegression(verbose=0)\n",
    "\n",
    "    kfold = KFold(n_splits=10, shuffle=True, random_state=42)\n",
    "\n",
    "    # Gets index of given columns\n",
    "    for i,d in enumerate(col_subgroup):\n",
    "        col_subgroup[i] = (X.columns.get_loc(d[0]), d[1])\n",
    "\n",
    "    to_drop = []\n",
    "    for d in ['country_cd_US', 'is_female', 'bachelor_obtained']:\n",
    "        to_drop.append(X.columns.get_loc(d))\n",
    "\n",
    "    aucs = []\n",
    "    fprs = []\n",
    "    rmses = []\n",
    "\n",
    "    y = np.array(y)\n",
    "    X = np.array(X)\n",
    "\n",
    "    subgroup_size = 0\n",
    "    count = 0\n",
    "    # Iterate through the each fold\n",
    "    for train_index, test_index in kfold.split(X):\n",
    "        X_train, X_test = X[train_index], X[test_index]\n",
    "        y_train, y_test = y[train_index], y[test_index]\n",
    "\n",
    "        train = X_train\n",
    "        if omit_demographics:\n",
    "            train = np.delete(train, to_drop, axis=1)                \n",
    "        \n",
    "\n",
    "        model.fit(train, y_train)\n",
    "        test = X_test\n",
    "        if omit_demographics:\n",
    "            test = np.delete(test, to_drop, axis=1)\n",
    "\n",
    "        y_pred = model.predict(test)\n",
    "\n",
    "        # Check if a subgroup is provided or not\n",
    "        if subgroup:\n",
    "            # Filter out the data\n",
    "            conditions = np.array([(X_test[:, name] == val) for name, val in col_subgroup]).all(axis=0)\n",
    "            X_test_filtered = X_test[conditions]\n",
    "            y_test_filtered = y_test[conditions]\n",
    "            y_pred_filtered = None\n",
    "            auc = None\n",
    "            rmse = None\n",
    "\n",
    "            # get total number of members in this subgroup\n",
    "            subgroup_size += X_test_filtered.shape[0]\n",
    "            count+=1\n",
    "            test = X_test_filtered\n",
    "            if omit_demographics:\n",
    "                test = np.delete(test, to_drop, axis=1)\n",
    "                    \n",
    "\n",
    "            # This exception is thrown when there is not enough data for the given subgroup\n",
    "            try:\n",
    "                y_pred_filtered = model.predict(test)\n",
    "                auc = roc_auc_score(y_test_filtered, y_pred_filtered)\n",
    "                rmse = np.sqrt(mean_squared_error(y_test_filtered, y_pred_filtered))\n",
    "\n",
    "            except Exception:\n",
    "                continue\n",
    "\n",
    "            aucs.append(auc)\n",
    "            rmses.append(rmse)\n",
    "\n",
    "            # TP = np.sum((y_test[conditions] == 1) & (y_pred[conditions] == 1))\n",
    "            # FN = np.sum((y_test[conditions] == 1) & (y_pred[conditions] == 0))\n",
    "            TN = np.sum((y_test[conditions] == 0) & (y_pred[conditions] == 0))\n",
    "            FP = np.sum((y_test[conditions] == 0) & (y_pred[conditions] == 1))      \n",
    "        else:\n",
    "            subgroup_size += X_test.shape[0]\n",
    "            count+=1\n",
    "            auc = roc_auc_score(y_test, y_pred)\n",
    "            rmse = np.sqrt(mean_squared_error(y_test, y_pred))\n",
    "            aucs.append(auc) \n",
    "            rmses.append(rmse)\n",
    "\n",
    "            # TP = np.sum((y_test == 1) & (y_pred == 1))\n",
    "            # FN = np.sum((y_test == 1) & (y_pred == 0))\n",
    "            TN = np.sum((y_test == 0) & (y_pred == 0))\n",
    "            FP = np.sum((y_test == 0) & (y_pred == 1))\n",
    "\n",
    "        # Calculate FPR\n",
    "        FPR = FP / (FP + TN)\n",
    "        fprs.append(FPR)\n",
    "\n",
    "    auc_avg = np.average(aucs)\n",
    "    auc_std = np.std(aucs)\n",
    "    fpr_avg = np.average(fprs)\n",
    "    fpr_std = np.std(fprs)\n",
    "    rmse_avg = np.average(rmses)\n",
    "    rmse_std = np.std(rmses)\n",
    "    \n",
    "    # print(f\"AUC: {auc_avg} +/- {auc_std}\")\n",
    "    # print(f\"FPR: {fpr_avg} +/- {fpr_std}\")\n",
    "    return (auc_avg, auc_std, fpr_avg, fpr_std, rmse_avg, rmse_std, subgroup_size/count)"
   ]
  },
  {
   "cell_type": "code",
   "execution_count": 103,
   "metadata": {},
   "outputs": [],
   "source": [
    "# calculate_fp_rates(X, y, [])"
   ]
  },
  {
   "cell_type": "markdown",
   "metadata": {},
   "source": [
    "#### Compute all subgroups\n",
    "\n",
    "This function generates all possible subgroups given the list of protected columns"
   ]
  },
  {
   "cell_type": "code",
   "execution_count": 104,
   "metadata": {},
   "outputs": [],
   "source": [
    "def compute_combo(cols):\n",
    "    retval = [[]]\n",
    "    def recurse(i, curr):\n",
    "        for j in range(i, len(cols)):\n",
    "            opt1 = curr.copy()\n",
    "            opt1.append((cols[j], 0))\n",
    "\n",
    "            opt2 = curr.copy()\n",
    "            opt2.append((cols[j], 1))\n",
    "            \n",
    "            retval.append(opt1)\n",
    "            retval.append(opt2)\n",
    "            if j < len(cols) - 1:\n",
    "                recurse(j+1, opt1.copy())\n",
    "            if j < len(cols) - 1:\n",
    "                recurse(j+1, opt2.copy())\n",
    "\n",
    "\n",
    "    recurse(0, [])\n",
    "\n",
    "    return retval"
   ]
  },
  {
   "cell_type": "code",
   "execution_count": 105,
   "metadata": {},
   "outputs": [],
   "source": [
    "combos = compute_combo(['country_cd_US', 'is_female', 'bachelor_obtained', 'white'])"
   ]
  },
  {
   "cell_type": "code",
   "execution_count": 106,
   "metadata": {},
   "outputs": [],
   "source": [
    "combos.sort(key=len)"
   ]
  },
  {
   "cell_type": "code",
   "execution_count": 107,
   "metadata": {},
   "outputs": [],
   "source": [
    "# for c in combos: \n",
    "#     subgroup = []\n",
    "#     for col, val in c:\n",
    "#         if col == 'country_cd_US':\n",
    "#             subgroup.append(\"US\" if val == 1 else \"International\")\n",
    "#         elif col == 'is_male':\n",
    "#             subgroup.append(\"Male\" if val == 1 else \"Female/Other\")\n",
    "#         elif col == 'bachelor_obtained':\n",
    "#             subgroup.append(\"Bachelor or higher\" if val == 1 else \"No Bachelor\")\n",
    "#     print(\", \".join(subgroup))\n",
    "#     fpr_avg, fpr_std, auc_avg, auc_std, n = calculate_fp_rates(X, y, c)\n",
    "#     print(f\"AUC: {auc_avg} +/- {auc_std}\")\n",
    "#     print(f\"FPR: {fpr_avg} +/- {fpr_std}\") \n",
    "#     print(f\"Members of subgroup: {n}\")\n",
    "#     print()\n",
    "    \n",
    "    "
   ]
  },
  {
   "cell_type": "markdown",
   "metadata": {},
   "source": [
    "Generate a list of all subgroup data and write it to a csv"
   ]
  },
  {
   "cell_type": "code",
   "execution_count": 108,
   "metadata": {},
   "outputs": [
    {
     "name": "stderr",
     "output_type": "stream",
     "text": [
      "c:\\Users\\a006x2\\Desktop\\gerryfair_2\\algofair\\.venv\\lib\\site-packages\\numpy\\lib\\function_base.py:520: RuntimeWarning: Mean of empty slice.\n",
      "  avg = a.mean(axis, **keepdims_kw)\n",
      "c:\\Users\\a006x2\\Desktop\\gerryfair_2\\algofair\\.venv\\lib\\site-packages\\numpy\\core\\_methods.py:129: RuntimeWarning: invalid value encountered in scalar divide\n",
      "  ret = ret.dtype.type(ret / rcount)\n",
      "c:\\Users\\a006x2\\Desktop\\gerryfair_2\\algofair\\.venv\\lib\\site-packages\\numpy\\core\\_methods.py:206: RuntimeWarning: Degrees of freedom <= 0 for slice\n",
      "  ret = _var(a, axis=axis, dtype=dtype, out=out, ddof=ddof,\n",
      "c:\\Users\\a006x2\\Desktop\\gerryfair_2\\algofair\\.venv\\lib\\site-packages\\numpy\\core\\_methods.py:163: RuntimeWarning: invalid value encountered in divide\n",
      "  arrmean = um.true_divide(arrmean, div, out=arrmean,\n",
      "c:\\Users\\a006x2\\Desktop\\gerryfair_2\\algofair\\.venv\\lib\\site-packages\\numpy\\core\\_methods.py:198: RuntimeWarning: invalid value encountered in scalar divide\n",
      "  ret = ret.dtype.type(ret / rcount)\n",
      "c:\\Users\\a006x2\\Desktop\\gerryfair_2\\algofair\\.venv\\lib\\site-packages\\numpy\\lib\\function_base.py:520: RuntimeWarning: Mean of empty slice.\n",
      "  avg = a.mean(axis, **keepdims_kw)\n",
      "c:\\Users\\a006x2\\Desktop\\gerryfair_2\\algofair\\.venv\\lib\\site-packages\\numpy\\core\\_methods.py:129: RuntimeWarning: invalid value encountered in scalar divide\n",
      "  ret = ret.dtype.type(ret / rcount)\n",
      "c:\\Users\\a006x2\\Desktop\\gerryfair_2\\algofair\\.venv\\lib\\site-packages\\numpy\\core\\_methods.py:206: RuntimeWarning: Degrees of freedom <= 0 for slice\n",
      "  ret = _var(a, axis=axis, dtype=dtype, out=out, ddof=ddof,\n",
      "c:\\Users\\a006x2\\Desktop\\gerryfair_2\\algofair\\.venv\\lib\\site-packages\\numpy\\core\\_methods.py:163: RuntimeWarning: invalid value encountered in divide\n",
      "  arrmean = um.true_divide(arrmean, div, out=arrmean,\n",
      "c:\\Users\\a006x2\\Desktop\\gerryfair_2\\algofair\\.venv\\lib\\site-packages\\numpy\\core\\_methods.py:198: RuntimeWarning: invalid value encountered in scalar divide\n",
      "  ret = ret.dtype.type(ret / rcount)\n",
      "c:\\Users\\a006x2\\Desktop\\gerryfair_2\\algofair\\.venv\\lib\\site-packages\\numpy\\lib\\function_base.py:520: RuntimeWarning: Mean of empty slice.\n",
      "  avg = a.mean(axis, **keepdims_kw)\n",
      "c:\\Users\\a006x2\\Desktop\\gerryfair_2\\algofair\\.venv\\lib\\site-packages\\numpy\\core\\_methods.py:129: RuntimeWarning: invalid value encountered in scalar divide\n",
      "  ret = ret.dtype.type(ret / rcount)\n",
      "c:\\Users\\a006x2\\Desktop\\gerryfair_2\\algofair\\.venv\\lib\\site-packages\\numpy\\core\\_methods.py:206: RuntimeWarning: Degrees of freedom <= 0 for slice\n",
      "  ret = _var(a, axis=axis, dtype=dtype, out=out, ddof=ddof,\n",
      "c:\\Users\\a006x2\\Desktop\\gerryfair_2\\algofair\\.venv\\lib\\site-packages\\numpy\\core\\_methods.py:163: RuntimeWarning: invalid value encountered in divide\n",
      "  arrmean = um.true_divide(arrmean, div, out=arrmean,\n",
      "c:\\Users\\a006x2\\Desktop\\gerryfair_2\\algofair\\.venv\\lib\\site-packages\\numpy\\core\\_methods.py:198: RuntimeWarning: invalid value encountered in scalar divide\n",
      "  ret = ret.dtype.type(ret / rcount)\n",
      "c:\\Users\\a006x2\\Desktop\\gerryfair_2\\algofair\\.venv\\lib\\site-packages\\numpy\\lib\\function_base.py:520: RuntimeWarning: Mean of empty slice.\n",
      "  avg = a.mean(axis, **keepdims_kw)\n",
      "c:\\Users\\a006x2\\Desktop\\gerryfair_2\\algofair\\.venv\\lib\\site-packages\\numpy\\core\\_methods.py:129: RuntimeWarning: invalid value encountered in scalar divide\n",
      "  ret = ret.dtype.type(ret / rcount)\n",
      "c:\\Users\\a006x2\\Desktop\\gerryfair_2\\algofair\\.venv\\lib\\site-packages\\numpy\\core\\_methods.py:206: RuntimeWarning: Degrees of freedom <= 0 for slice\n",
      "  ret = _var(a, axis=axis, dtype=dtype, out=out, ddof=ddof,\n",
      "c:\\Users\\a006x2\\Desktop\\gerryfair_2\\algofair\\.venv\\lib\\site-packages\\numpy\\core\\_methods.py:163: RuntimeWarning: invalid value encountered in divide\n",
      "  arrmean = um.true_divide(arrmean, div, out=arrmean,\n",
      "c:\\Users\\a006x2\\Desktop\\gerryfair_2\\algofair\\.venv\\lib\\site-packages\\numpy\\core\\_methods.py:198: RuntimeWarning: invalid value encountered in scalar divide\n",
      "  ret = ret.dtype.type(ret / rcount)\n"
     ]
    }
   ],
   "source": [
    "all_subgroup_data = []\n",
    "\n",
    "for c in combos:\n",
    "    subgroup = []\n",
    "    if c:\n",
    "        for col, val in c:\n",
    "            if col == 'country_cd_US':\n",
    "                subgroup.append(\"US\" if val == 1 else \"International\")\n",
    "            elif col == 'is_female':\n",
    "                subgroup.append(\"Female\" if val == 1 else \"Male/Other\")\n",
    "            elif col == 'bachelor_obtained':\n",
    "                subgroup.append(\"Bachelor or higher\" if val == 1 else \"No Bachelor\")\n",
    "            elif col == 'white':\n",
    "                subgroup.append(\"White\" if val == 1 else \"Non-white\")\n",
    "    else:\n",
    "        subgroup.append(\"Overall\")\n",
    "\n",
    "    auc_avg, auc_std, fpr_avg, fpr_std, rmse_avg, rmse_std, n = calculate_fp_rates(X, y, c, omit_demographics=not include_demographics)\n",
    "\n",
    "    subgroup_str = \", \".join(subgroup)\n",
    "    if n < 10:\n",
    "        subgroup_str += \"*\"\n",
    "    elif n >= 10 and n < 30:\n",
    "        subgroup_str += \"**\"\n",
    "    # Create a dictionary for each subgroup\n",
    "    subgroup_data = {\n",
    "        'subgroup': subgroup_str,\n",
    "        'n': f\"{n}\",\n",
    "        'auc_avg': f\"{auc_avg:.3f}\",\n",
    "        'auc_std': f\"{auc_std:.3f}\",\n",
    "        'fpr_avg': f\"{fpr_avg:.3f}\",\n",
    "        'fpr_std': f\"{fpr_std:.3f}\",\n",
    "        'rmse_avg': f\"{rmse_avg:.3f}\",\n",
    "        'rmse_std': f\"{rmse_std:.3f}\"\n",
    "    }\n",
    "\n",
    "    all_subgroup_data.append(subgroup_data)"
   ]
  },
  {
   "cell_type": "code",
   "execution_count": 109,
   "metadata": {},
   "outputs": [],
   "source": [
    "csv_file = f\"MTC508_subgroup_data_with{'' if include_demographics else 'out'}_demographics.csv\"\n",
    "data = sorted(all_subgroup_data, key=lambda x: -float(x['n']))\n",
    "\n",
    "# Write the data to a CSV file\n",
    "with open(csv_file, 'w', newline='') as csvfile:\n",
    "    fieldnames = [\n",
    "        'subgroup', 'n', 'auc_avg', 'auc_std', 'fpr_avg', 'fpr_std', 'rmse_avg', 'rmse_std']\n",
    "    writer = csv.DictWriter(csvfile, fieldnames=fieldnames)\n",
    "\n",
    "    writer.writeheader()  # Write the header row\n",
    "    for row in data:\n",
    "        writer.writerow(row)"
   ]
  },
  {
   "cell_type": "code",
   "execution_count": 110,
   "metadata": {},
   "outputs": [
    {
     "data": {
      "text/plain": [
       "(1098, 12)"
      ]
     },
     "execution_count": 110,
     "metadata": {},
     "output_type": "execute_result"
    }
   ],
   "source": [
    "np.delete(X, 10, axis=1).shape"
   ]
  },
  {
   "cell_type": "code",
   "execution_count": 111,
   "metadata": {},
   "outputs": [
    {
     "data": {
      "text/plain": [
       "'109.8'"
      ]
     },
     "execution_count": 111,
     "metadata": {},
     "output_type": "execute_result"
    }
   ],
   "source": [
    "all_subgroup_data[0]['n']"
   ]
  },
  {
   "cell_type": "code",
   "execution_count": null,
   "metadata": {},
   "outputs": [],
   "source": []
  }
 ],
 "metadata": {
  "kernelspec": {
   "display_name": ".venv",
   "language": "python",
   "name": "python3"
  },
  "language_info": {
   "codemirror_mode": {
    "name": "ipython",
    "version": 3
   },
   "file_extension": ".py",
   "mimetype": "text/x-python",
   "name": "python",
   "nbconvert_exporter": "python",
   "pygments_lexer": "ipython3",
   "version": "3.9.12"
  }
 },
 "nbformat": 4,
 "nbformat_minor": 2
}
